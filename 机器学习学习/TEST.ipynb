{
 "cells": [
  {
   "cell_type": "code",
   "execution_count": 1,
   "metadata": {
    "ExecuteTime": {
     "end_time": "2019-07-08T08:32:35.599552Z",
     "start_time": "2019-07-08T08:32:35.593578Z"
    }
   },
   "outputs": [
    {
     "name": "stdout",
     "output_type": "stream",
     "text": [
      "[array([[1, 2, 3, 4, 5],\n",
      "       [1, 2, 3, 4, 5],\n",
      "       [1, 2, 3, 4, 5],\n",
      "       [1, 2, 3, 4, 5],\n",
      "       [1, 2, 3, 4, 5],\n",
      "       [1, 2, 3, 4, 5]]), array([[11, 11, 11, 11, 11],\n",
      "       [12, 12, 12, 12, 12],\n",
      "       [13, 13, 13, 13, 13],\n",
      "       [14, 14, 14, 14, 14],\n",
      "       [15, 15, 15, 15, 15],\n",
      "       [16, 16, 16, 16, 16]])]\n"
     ]
    }
   ],
   "source": [
    "import numpy as np\n",
    "a = [1,2,3,4,5]\n",
    "b = [11,12,13,14,15,16]\n",
    "c = np.meshgrid(a,b)\n",
    "print(c)"
   ]
  }
 ],
 "metadata": {
  "kernelspec": {
   "display_name": "Python [conda env:env_1]",
   "language": "python",
   "name": "conda-env-env_1-py"
  },
  "language_info": {
   "codemirror_mode": {
    "name": "ipython",
    "version": 3
   },
   "file_extension": ".py",
   "mimetype": "text/x-python",
   "name": "python",
   "nbconvert_exporter": "python",
   "pygments_lexer": "ipython3",
   "version": "3.7.3"
  },
  "toc": {
   "base_numbering": 1,
   "nav_menu": {},
   "number_sections": true,
   "sideBar": true,
   "skip_h1_title": false,
   "title_cell": "Table of Contents",
   "title_sidebar": "Contents",
   "toc_cell": false,
   "toc_position": {},
   "toc_section_display": true,
   "toc_window_display": false
  }
 },
 "nbformat": 4,
 "nbformat_minor": 2
}
