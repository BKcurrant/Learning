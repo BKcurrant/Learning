{
 "cells": [
  {
   "cell_type": "markdown",
   "metadata": {},
   "source": [
    "# 第十章 数据表达与特征工程"
   ]
  },
  {
   "cell_type": "markdown",
   "metadata": {},
   "source": [
    "## 10.1"
   ]
  },
  {
   "cell_type": "code",
   "execution_count": 1,
   "metadata": {
    "ExecuteTime": {
     "end_time": "2019-07-13T03:37:43.267844Z",
     "start_time": "2019-07-13T03:37:31.325421Z"
    }
   },
   "outputs": [
    {
     "data": {
      "text/html": [
       "<div>\n",
       "<style scoped>\n",
       "    .dataframe tbody tr th:only-of-type {\n",
       "        vertical-align: middle;\n",
       "    }\n",
       "\n",
       "    .dataframe tbody tr th {\n",
       "        vertical-align: top;\n",
       "    }\n",
       "\n",
       "    .dataframe thead th {\n",
       "        text-align: right;\n",
       "    }\n",
       "</style>\n",
       "<table border=\"1\" class=\"dataframe\">\n",
       "  <thead>\n",
       "    <tr style=\"text-align: right;\">\n",
       "      <th></th>\n",
       "      <th>数值特征</th>\n",
       "      <th>类型特征</th>\n",
       "    </tr>\n",
       "  </thead>\n",
       "  <tbody>\n",
       "    <tr>\n",
       "      <th>0</th>\n",
       "      <td>5</td>\n",
       "      <td>西瓜</td>\n",
       "    </tr>\n",
       "    <tr>\n",
       "      <th>1</th>\n",
       "      <td>6</td>\n",
       "      <td>香蕉</td>\n",
       "    </tr>\n",
       "    <tr>\n",
       "      <th>2</th>\n",
       "      <td>7</td>\n",
       "      <td>橘子</td>\n",
       "    </tr>\n",
       "    <tr>\n",
       "      <th>3</th>\n",
       "      <td>8</td>\n",
       "      <td>苹果</td>\n",
       "    </tr>\n",
       "    <tr>\n",
       "      <th>4</th>\n",
       "      <td>9</td>\n",
       "      <td>葡萄</td>\n",
       "    </tr>\n",
       "  </tbody>\n",
       "</table>\n",
       "</div>"
      ],
      "text/plain": [
       "   数值特征 类型特征\n",
       "0     5   西瓜\n",
       "1     6   香蕉\n",
       "2     7   橘子\n",
       "3     8   苹果\n",
       "4     9   葡萄"
      ]
     },
     "metadata": {},
     "output_type": "display_data"
    }
   ],
   "source": [
    "import pandas as pd\n",
    "fruits = pd.DataFrame({'数值特征': [5, 6, 7, 8, 9],\n",
    "                      '类型特征': ['西瓜', '香蕉', '橘子', '苹果' ,'葡萄']})\n",
    "display(fruits)"
   ]
  },
  {
   "cell_type": "code",
   "execution_count": 2,
   "metadata": {
    "ExecuteTime": {
     "end_time": "2019-07-13T03:37:43.316752Z",
     "start_time": "2019-07-13T03:37:43.271339Z"
    }
   },
   "outputs": [
    {
     "data": {
      "text/html": [
       "<div>\n",
       "<style scoped>\n",
       "    .dataframe tbody tr th:only-of-type {\n",
       "        vertical-align: middle;\n",
       "    }\n",
       "\n",
       "    .dataframe tbody tr th {\n",
       "        vertical-align: top;\n",
       "    }\n",
       "\n",
       "    .dataframe thead th {\n",
       "        text-align: right;\n",
       "    }\n",
       "</style>\n",
       "<table border=\"1\" class=\"dataframe\">\n",
       "  <thead>\n",
       "    <tr style=\"text-align: right;\">\n",
       "      <th></th>\n",
       "      <th>数值特征</th>\n",
       "      <th>类型特征_橘子</th>\n",
       "      <th>类型特征_苹果</th>\n",
       "      <th>类型特征_葡萄</th>\n",
       "      <th>类型特征_西瓜</th>\n",
       "      <th>类型特征_香蕉</th>\n",
       "    </tr>\n",
       "  </thead>\n",
       "  <tbody>\n",
       "    <tr>\n",
       "      <th>0</th>\n",
       "      <td>5</td>\n",
       "      <td>0</td>\n",
       "      <td>0</td>\n",
       "      <td>0</td>\n",
       "      <td>1</td>\n",
       "      <td>0</td>\n",
       "    </tr>\n",
       "    <tr>\n",
       "      <th>1</th>\n",
       "      <td>6</td>\n",
       "      <td>0</td>\n",
       "      <td>0</td>\n",
       "      <td>0</td>\n",
       "      <td>0</td>\n",
       "      <td>1</td>\n",
       "    </tr>\n",
       "    <tr>\n",
       "      <th>2</th>\n",
       "      <td>7</td>\n",
       "      <td>1</td>\n",
       "      <td>0</td>\n",
       "      <td>0</td>\n",
       "      <td>0</td>\n",
       "      <td>0</td>\n",
       "    </tr>\n",
       "    <tr>\n",
       "      <th>3</th>\n",
       "      <td>8</td>\n",
       "      <td>0</td>\n",
       "      <td>1</td>\n",
       "      <td>0</td>\n",
       "      <td>0</td>\n",
       "      <td>0</td>\n",
       "    </tr>\n",
       "    <tr>\n",
       "      <th>4</th>\n",
       "      <td>9</td>\n",
       "      <td>0</td>\n",
       "      <td>0</td>\n",
       "      <td>1</td>\n",
       "      <td>0</td>\n",
       "      <td>0</td>\n",
       "    </tr>\n",
       "  </tbody>\n",
       "</table>\n",
       "</div>"
      ],
      "text/plain": [
       "   数值特征  类型特征_橘子  类型特征_苹果  类型特征_葡萄  类型特征_西瓜  类型特征_香蕉\n",
       "0     5        0        0        0        1        0\n",
       "1     6        0        0        0        0        1\n",
       "2     7        1        0        0        0        0\n",
       "3     8        0        1        0        0        0\n",
       "4     9        0        0        1        0        0"
      ]
     },
     "metadata": {},
     "output_type": "display_data"
    }
   ],
   "source": [
    "fruits_dum = pd.get_dummies(fruits)\n",
    "display(fruits_dum)"
   ]
  },
  {
   "cell_type": "code",
   "execution_count": 3,
   "metadata": {
    "ExecuteTime": {
     "end_time": "2019-07-13T03:37:43.334722Z",
     "start_time": "2019-07-13T03:37:43.319248Z"
    }
   },
   "outputs": [
    {
     "data": {
      "text/html": [
       "<div>\n",
       "<style scoped>\n",
       "    .dataframe tbody tr th:only-of-type {\n",
       "        vertical-align: middle;\n",
       "    }\n",
       "\n",
       "    .dataframe tbody tr th {\n",
       "        vertical-align: top;\n",
       "    }\n",
       "\n",
       "    .dataframe thead th {\n",
       "        text-align: right;\n",
       "    }\n",
       "</style>\n",
       "<table border=\"1\" class=\"dataframe\">\n",
       "  <thead>\n",
       "    <tr style=\"text-align: right;\">\n",
       "      <th></th>\n",
       "      <th>类型特征</th>\n",
       "      <th>数值特征_5</th>\n",
       "      <th>数值特征_6</th>\n",
       "      <th>数值特征_7</th>\n",
       "      <th>数值特征_8</th>\n",
       "      <th>数值特征_9</th>\n",
       "    </tr>\n",
       "  </thead>\n",
       "  <tbody>\n",
       "    <tr>\n",
       "      <th>0</th>\n",
       "      <td>西瓜</td>\n",
       "      <td>1</td>\n",
       "      <td>0</td>\n",
       "      <td>0</td>\n",
       "      <td>0</td>\n",
       "      <td>0</td>\n",
       "    </tr>\n",
       "    <tr>\n",
       "      <th>1</th>\n",
       "      <td>香蕉</td>\n",
       "      <td>0</td>\n",
       "      <td>1</td>\n",
       "      <td>0</td>\n",
       "      <td>0</td>\n",
       "      <td>0</td>\n",
       "    </tr>\n",
       "    <tr>\n",
       "      <th>2</th>\n",
       "      <td>橘子</td>\n",
       "      <td>0</td>\n",
       "      <td>0</td>\n",
       "      <td>1</td>\n",
       "      <td>0</td>\n",
       "      <td>0</td>\n",
       "    </tr>\n",
       "    <tr>\n",
       "      <th>3</th>\n",
       "      <td>苹果</td>\n",
       "      <td>0</td>\n",
       "      <td>0</td>\n",
       "      <td>0</td>\n",
       "      <td>1</td>\n",
       "      <td>0</td>\n",
       "    </tr>\n",
       "    <tr>\n",
       "      <th>4</th>\n",
       "      <td>葡萄</td>\n",
       "      <td>0</td>\n",
       "      <td>0</td>\n",
       "      <td>0</td>\n",
       "      <td>0</td>\n",
       "      <td>1</td>\n",
       "    </tr>\n",
       "  </tbody>\n",
       "</table>\n",
       "</div>"
      ],
      "text/plain": [
       "  类型特征  数值特征_5  数值特征_6  数值特征_7  数值特征_8  数值特征_9\n",
       "0   西瓜       1       0       0       0       0\n",
       "1   香蕉       0       1       0       0       0\n",
       "2   橘子       0       0       1       0       0\n",
       "3   苹果       0       0       0       1       0\n",
       "4   葡萄       0       0       0       0       1"
      ]
     },
     "execution_count": 3,
     "metadata": {},
     "output_type": "execute_result"
    }
   ],
   "source": [
    "fruits['数值特征'] = fruits['数值特征'].astype(str)\n",
    "pd.get_dummies(fruits, columns=['数值特征'])"
   ]
  },
  {
   "cell_type": "code",
   "execution_count": 4,
   "metadata": {
    "ExecuteTime": {
     "end_time": "2019-07-13T03:37:45.049679Z",
     "start_time": "2019-07-13T03:37:43.338713Z"
    }
   },
   "outputs": [
    {
     "data": {
      "text/plain": [
       "<Figure size 640x480 with 1 Axes>"
      ]
     },
     "metadata": {},
     "output_type": "display_data"
    }
   ],
   "source": [
    "import numpy as np\n",
    "import matplotlib.pyplot as plt\n",
    "rnd = np.random.RandomState(38)\n",
    "x = rnd.uniform(-5, 5, size = 50)\n",
    "y_no_noise = (np.cos(6*x)+x)\n",
    "X = x.reshape(-1, 1)\n",
    "y = (y_no_noise + rnd.normal(size = len(x)))/2\n",
    "plt.plot(X, y, 'o', c='r')\n",
    "plt.show()"
   ]
  },
  {
   "cell_type": "code",
   "execution_count": 5,
   "metadata": {
    "ExecuteTime": {
     "end_time": "2019-07-13T03:37:57.768883Z",
     "start_time": "2019-07-13T03:37:45.052660Z"
    }
   },
   "outputs": [
    {
     "data": {
      "image/png": "[encoded data removed]",
      "text/plain": [
       "<Figure size 432x288 with 1 Axes>"
      ]
     },
     "metadata": {
      "needs_background": "light"
     },
     "output_type": "display_data"
    }
   ],
   "source": [
    "from sklearn.neural_network import MLPRegressor\n",
    "from sklearn.neighbors import KNeighborsRegressor\n",
    "line = np.linspace(-5, 5, 1000, endpoint=False).reshape(-1, 1)\n",
    "mlpr = MLPRegressor().fit(X, y)\n",
    "knr = KNeighborsRegressor().fit(X ,y)\n",
    "plt.plot(line, mlpr.predict(line), label = 'MLP')\n",
    "plt.plot(line, knr.predict(line), label = 'KNN')\n",
    "plt.plot(X, y, 'o', c='r')\n",
    "plt.legend(loc = 'best')\n",
    "plt.show()"
   ]
  },
  {
   "cell_type": "code",
   "execution_count": 6,
   "metadata": {
    "ExecuteTime": {
     "end_time": "2019-07-13T03:37:57.778313Z",
     "start_time": "2019-07-13T03:37:57.771018Z"
    }
   },
   "outputs": [
    {
     "name": "stdout",
     "output_type": "stream",
     "text": [
      "装箱数据范围：\n",
      "[-5. -4. -3. -2. -1.  0.  1.  2.  3.  4.  5.]\n",
      "\n",
      "前十个数据点的特征值：\n",
      "[[-1.1522688 ]\n",
      " [ 3.59707847]\n",
      " [ 4.44199636]\n",
      " [ 2.02824894]\n",
      " [ 1.33634097]\n",
      " [ 1.05961282]\n",
      " [-2.99873157]\n",
      " [-1.12612112]\n",
      " [-2.41016836]\n",
      " [-4.25392719]]\n",
      "\n",
      "前十个数据点所在的箱子：\n",
      "[[ 4]\n",
      " [ 9]\n",
      " [10]\n",
      " [ 8]\n",
      " [ 7]\n",
      " [ 7]\n",
      " [ 3]\n",
      " [ 4]\n",
      " [ 3]\n",
      " [ 1]]\n"
     ]
    }
   ],
   "source": [
    "bins = np.linspace(-5,5,11)\n",
    "target_bin = np.digitize(X, bins=bins)\n",
    "print('装箱数据范围：\\n{}'.format(bins))\n",
    "print('\\n前十个数据点的特征值：\\n{}'.format(X[:10]))\n",
    "print('\\n前十个数据点所在的箱子：\\n{}'.format(target_bin[:10]))"
   ]
  },
  {
   "cell_type": "code",
   "execution_count": 7,
   "metadata": {
    "ExecuteTime": {
     "end_time": "2019-07-13T03:37:57.856723Z",
     "start_time": "2019-07-13T03:37:57.780484Z"
    }
   },
   "outputs": [
    {
     "name": "stdout",
     "output_type": "stream",
     "text": [
      "装箱后的数据形态：(50, 10)\n",
      "\n",
      "装箱后的前十个数据点：\n",
      "[[0. 0. 0. 1. 0. 0. 0. 0. 0. 0.]\n",
      " [0. 0. 0. 0. 0. 0. 0. 0. 1. 0.]\n",
      " [0. 0. 0. 0. 0. 0. 0. 0. 0. 1.]\n",
      " [0. 0. 0. 0. 0. 0. 0. 1. 0. 0.]\n",
      " [0. 0. 0. 0. 0. 0. 1. 0. 0. 0.]\n",
      " [0. 0. 0. 0. 0. 0. 1. 0. 0. 0.]\n",
      " [0. 0. 1. 0. 0. 0. 0. 0. 0. 0.]\n",
      " [0. 0. 0. 1. 0. 0. 0. 0. 0. 0.]\n",
      " [0. 0. 1. 0. 0. 0. 0. 0. 0. 0.]\n",
      " [1. 0. 0. 0. 0. 0. 0. 0. 0. 0.]]\n"
     ]
    },
    {
     "name": "stderr",
     "output_type": "stream",
     "text": [
      "E:\\Anaconda\\Anaconda3\\envs\\env_2\\lib\\site-packages\\sklearn\\preprocessing\\_encoders.py:415: FutureWarning: The handling of integer data will change in version 0.22. Currently, the categories are determined based on the range [0, max(values)], while in the future they will be determined based on the unique values.\n",
      "If you want the future behaviour and silence this warning, you can specify \"categories='auto'\".\n",
      "In case you used a LabelEncoder before this OneHotEncoder to convert the categories to integers, then you can now use the OneHotEncoder directly.\n",
      "  warnings.warn(msg, FutureWarning)\n"
     ]
    }
   ],
   "source": [
    "from sklearn.preprocessing import OneHotEncoder\n",
    "onehot = OneHotEncoder(sparse=False)\n",
    "onehot.fit(target_bin)\n",
    "X_in_bin = onehot.transform(target_bin)\n",
    "print('装箱后的数据形态：{}'.format(X_in_bin.shape))\n",
    "print('\\n装箱后的前十个数据点：\\n{}'.format(X_in_bin[:10]))"
   ]
  },
  {
   "cell_type": "code",
   "execution_count": 8,
   "metadata": {
    "ExecuteTime": {
     "end_time": "2019-07-13T03:37:58.208747Z",
     "start_time": "2019-07-13T03:37:57.867703Z"
    }
   },
   "outputs": [
    {
     "data": {
      "image/png": "[encoded data removed]",
      "text/plain": [
       "<Figure size 432x288 with 1 Axes>"
      ]
     },
     "metadata": {
      "needs_background": "light"
     },
     "output_type": "display_data"
    }
   ],
   "source": [
    "new_line = onehot.transform(np.digitize(line, bins = bins))\n",
    "new_mlpr = MLPRegressor().fit(X_in_bin, y)\n",
    "new_knr = KNeighborsRegressor().fit(X_in_bin, y)\n",
    "plt.plot(line, new_mlpr.predict(new_line), label = 'MLP')\n",
    "plt.plot(line, new_knr.predict(new_line), label = 'KNN')\n",
    "plt.plot(X, y, 'o', c='r')\n",
    "plt.legend(loc = 'best')\n",
    "plt.show()"
   ]
  },
  {
   "cell_type": "code",
   "execution_count": 9,
   "metadata": {
    "ExecuteTime": {
     "end_time": "2019-07-13T03:37:58.216234Z",
     "start_time": "2019-07-13T03:37:58.210745Z"
    }
   },
   "outputs": [
    {
     "name": "stdout",
     "output_type": "stream",
     "text": [
      "将数组2添加到数据1中后得到：[1 2 3 4 5 6 7 8 9 0]\n"
     ]
    }
   ],
   "source": [
    "array_1 = [1, 2, 3, 4, 5]\n",
    "array_2 = [6, 7, 8, 9, 0]\n",
    "array_3 = np.hstack((array_1, array_2))\n",
    "print('将数组2添加到数据1中后得到：{}'.format(array_3))"
   ]
  },
  {
   "cell_type": "code",
   "execution_count": 10,
   "metadata": {
    "ExecuteTime": {
     "end_time": "2019-07-13T03:37:58.228212Z",
     "start_time": "2019-07-13T03:37:58.224219Z"
    }
   },
   "outputs": [
    {
     "name": "stdout",
     "output_type": "stream",
     "text": [
      "(50, 11)\n"
     ]
    }
   ],
   "source": [
    "X_stack = np.hstack([X, X_in_bin])\n",
    "print(X_stack.shape)"
   ]
  },
  {
   "cell_type": "code",
   "execution_count": 11,
   "metadata": {
    "ExecuteTime": {
     "end_time": "2019-07-13T03:37:58.487766Z",
     "start_time": "2019-07-13T03:37:58.230706Z"
    }
   },
   "outputs": [
    {
     "data": {
      "image/png": "[encoded data removed]",
      "text/plain": [
       "<Figure size 432x288 with 1 Axes>"
      ]
     },
     "metadata": {
      "needs_background": "light"
     },
     "output_type": "display_data"
    }
   ],
   "source": [
    "line_stack = np.hstack([line, new_line])\n",
    "mlpr_interact = MLPRegressor().fit(X_stack, y)\n",
    "plt.plot(line, mlpr_interact.predict(line_stack), \n",
    "         label='MLP for interaction')\n",
    "plt.ylim(-4,4)\n",
    "for vline in bins:\n",
    "    plt.plot([vline,vline],[-5,5],':',c='k')\n",
    "plt.legend(loc='lower right')\n",
    "plt.plot(X, y,'o',c='r')\n",
    "plt.show()"
   ]
  },
  {
   "cell_type": "code",
   "execution_count": 12,
   "metadata": {
    "ExecuteTime": {
     "end_time": "2019-07-13T03:37:58.497285Z",
     "start_time": "2019-07-13T03:37:58.489725Z"
    }
   },
   "outputs": [
    {
     "name": "stdout",
     "output_type": "stream",
     "text": [
      "(50, 20)\n",
      "[ 0.         0.         0.         1.         0.         0.\n",
      "  0.         0.         0.         0.        -0.        -0.\n",
      " -0.        -1.1522688 -0.        -0.        -0.        -0.\n",
      " -0.        -0.       ]\n"
     ]
    }
   ],
   "source": [
    "X_multi = np.hstack([X_in_bin, X*X_in_bin])\n",
    "print(X_multi.shape)\n",
    "print(X_multi[0])"
   ]
  },
  {
   "cell_type": "code",
   "execution_count": 13,
   "metadata": {
    "ExecuteTime": {
     "end_time": "2019-07-13T03:37:58.799648Z",
     "start_time": "2019-07-13T03:37:58.499705Z"
    }
   },
   "outputs": [
    {
     "data": {
      "image/png": "[encoded data removed]",
      "text/plain": [
       "<Figure size 432x288 with 1 Axes>"
      ]
     },
     "metadata": {
      "needs_background": "light"
     },
     "output_type": "display_data"
    }
   ],
   "source": [
    "mlpr_multi = MLPRegressor().fit(X_multi, y)\n",
    "line_multi = np.hstack([new_line, line * new_line])\n",
    "plt.plot(line, mlpr_multi.predict(line_multi), label = 'MLP Regressor')\n",
    "for vline in bins:\n",
    "    plt.plot([vline,vline],[-5,5],':',c='gray')\n",
    "plt.plot(X, y, 'o', c='r')\n",
    "plt.legend(loc='lower right')\n",
    "plt.show()"
   ]
  },
  {
   "cell_type": "code",
   "execution_count": 14,
   "metadata": {
    "ExecuteTime": {
     "end_time": "2019-07-13T03:37:58.808132Z",
     "start_time": "2019-07-13T03:37:58.802143Z"
    }
   },
   "outputs": [
    {
     "name": "stdout",
     "output_type": "stream",
     "text": [
      "(50, 20)\n"
     ]
    }
   ],
   "source": [
    "from sklearn.preprocessing import PolynomialFeatures\n",
    "poly = PolynomialFeatures(degree=20, include_bias= False)\n",
    "X_poly = poly.fit_transform(X)\n",
    "print(X_poly.shape)"
   ]
  },
  {
   "cell_type": "code",
   "execution_count": 15,
   "metadata": {
    "ExecuteTime": {
     "end_time": "2019-07-13T03:37:58.816116Z",
     "start_time": "2019-07-13T03:37:58.810129Z"
    }
   },
   "outputs": [
    {
     "name": "stdout",
     "output_type": "stream",
     "text": [
      "原始数据集中的第一个样本特征：\n",
      "[-1.1522688]\n",
      "\n",
      "处理后的数据集中第一个样本特征：\n",
      "[ -1.1522688    1.3277234   -1.52989425   1.76284942  -2.0312764\n",
      "   2.34057643  -2.6969732    3.10763809  -3.58083443   4.1260838\n",
      "  -4.75435765   5.47829801  -6.3124719    7.27366446  -8.38121665\n",
      "   9.65741449 -11.12793745  12.82237519 -14.77482293  17.02456756]\n"
     ]
    }
   ],
   "source": [
    "print('原始数据集中的第一个样本特征：\\n{}'.format(X[0]))\n",
    "print('\\n处理后的数据集中第一个样本特征：\\n{}'.format(X_poly[0]))"
   ]
  },
  {
   "cell_type": "code",
   "execution_count": 16,
   "metadata": {
    "ExecuteTime": {
     "end_time": "2019-07-13T03:37:58.824601Z",
     "start_time": "2019-07-13T03:37:58.818612Z"
    }
   },
   "outputs": [
    {
     "name": "stdout",
     "output_type": "stream",
     "text": [
      "PolynomialFeatures对原始数据的处理:\n",
      "['x0', 'x0^2', 'x0^3', 'x0^4', 'x0^5', 'x0^6', 'x0^7', 'x0^8', 'x0^9', 'x0^10', 'x0^11', 'x0^12', 'x0^13', 'x0^14', 'x0^15', 'x0^16', 'x0^17', 'x0^18', 'x0^19', 'x0^20']\n"
     ]
    }
   ],
   "source": [
    "print ('PolynomialFeatures对原始数据的处理:\\n{}'.format(\n",
    "    poly.get_feature_names()))"
   ]
  },
  {
   "cell_type": "code",
   "execution_count": 17,
   "metadata": {
    "ExecuteTime": {
     "end_time": "2019-07-13T03:37:59.346886Z",
     "start_time": "2019-07-13T03:37:58.826597Z"
    }
   },
   "outputs": [
    {
     "data": {
      "image/png": "[encoded data removed]",
      "text/plain": [
       "<Figure size 432x288 with 1 Axes>"
      ]
     },
     "metadata": {
      "needs_background": "light"
     },
     "output_type": "display_data"
    }
   ],
   "source": [
    "from sklearn.linear_model import LinearRegression\n",
    "\n",
    "LNR_poly = LinearRegression().fit(X_poly, y)\n",
    "line_poly = poly.transform(line)\n",
    "\n",
    "plt.plot(line,LNR_poly.predict(line_poly), label='Linear Regressor')\n",
    "plt.xlim(np.min(X)-0.5,np.max(X)+0.5)\n",
    "plt.ylim(np.min(y)-0.5,np.max(y)+0.5)\n",
    "plt.plot(X,y,'o',c='r')\n",
    "plt.legend(loc='lower right')\n",
    "plt.show()"
   ]
  },
  {
   "cell_type": "code",
   "execution_count": 18,
   "metadata": {
    "ExecuteTime": {
     "end_time": "2019-07-13T03:37:59.355198Z",
     "start_time": "2019-07-13T03:37:59.349125Z"
    }
   },
   "outputs": [],
   "source": [
    "import pandas as pd\n",
    "stock = pd.read_csv\n"
   ]
  }
 ],
 "metadata": {
  "kernelspec": {
   "display_name": "Python [conda env:env_2]",
   "language": "python",
   "name": "conda-env-env_2-py"
  },
  "language_info": {
   "codemirror_mode": {
    "name": "ipython",
    "version": 3
   },
   "file_extension": ".py",
   "mimetype": "text/x-python",
   "name": "python",
   "nbconvert_exporter": "python",
   "pygments_lexer": "ipython3",
   "version": "3.7.3"
  },
  "toc": {
   "base_numbering": 1,
   "nav_menu": {},
   "number_sections": true,
   "sideBar": true,
   "skip_h1_title": false,
   "title_cell": "Table of Contents",
   "title_sidebar": "Contents",
   "toc_cell": false,
   "toc_position": {},
   "toc_section_display": true,
   "toc_window_display": false
  }
 },
 "nbformat": 4,
 "nbformat_minor": 2
}
